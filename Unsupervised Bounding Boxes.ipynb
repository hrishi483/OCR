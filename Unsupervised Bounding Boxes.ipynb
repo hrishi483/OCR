{
 "cells": [
  {
   "cell_type": "code",
   "execution_count": 1,
   "id": "409bab42",
   "metadata": {},
   "outputs": [],
   "source": [
    "import cv2\n",
    "from PIL import Image\n",
    "import pytesseract\n",
    "import warnings\n",
    "warnings.filterwarnings('ignore')\n",
    "from Preprocessing_cheatsheet import say_hello, show_image, start, grayscale, noise_removal, thin_font, thick_font, deskew_image, remove_border,Blur\n",
    "import numpy as np\n",
    "import os"
   ]
  },
  {
   "cell_type": "code",
   "execution_count": 2,
   "id": "0d9e958c",
   "metadata": {},
   "outputs": [
    {
     "data": {
      "text/plain": [
       "'D:\\\\Internship\\\\Studjee\\\\Dataset'"
      ]
     },
     "execution_count": 2,
     "metadata": {},
     "output_type": "execute_result"
    }
   ],
   "source": [
    "os.chdir(\"D:\\Internship\\Studjee\\Dataset\")\n",
    "os.getcwd()"
   ]
  },
  {
   "cell_type": "code",
   "execution_count": 3,
   "id": "6db800f2",
   "metadata": {},
   "outputs": [
    {
     "name": "stdout",
     "output_type": "stream",
     "text": [
      "2022_01_11_12_38_PM_Office_Lens_4.jpg\n",
      "2022_01_11_12_38_PM_Office_Lens_4_contours.jpg\n",
      "compress_16283973586881672795621.jpeg\n",
      "compress_16283973586881672795621_contours.jpeg\n",
      "compress_1629446272360525281284.jpeg\n",
      "compress_1629446272360525281284_contours.jpeg\n",
      "compress_IMG20220103105239.jpeg\n",
      "compress_IMG20220103105239_contours.jpeg\n",
      "compress_IMG_20210511_130407.jpeg\n",
      "compress_IMG_20210511_130407_contours.jpeg\n",
      "compress_IMG_20210808_125203.jpeg\n",
      "compress_IMG_20210808_125203_contours.jpeg\n",
      "compress_IMG_20220104_112022.jpeg\n",
      "compress_IMG_20220104_112022_contours.jpeg\n",
      "compress_IMG_20220104_112032.jpeg\n",
      "compress_IMG_20220104_112032_contours.jpeg\n",
      "philosophy-1.jpg\n",
      "philosophy-1_contours.jpg\n"
     ]
    }
   ],
   "source": [
    "for image_file in os.listdir():\n",
    "    print(image_file)"
   ]
  },
  {
   "cell_type": "code",
   "execution_count": 11,
   "id": "401cb6f7",
   "metadata": {},
   "outputs": [],
   "source": [
    "def get_bounding_box(image_file):\n",
    "    image = cv2.imread(image_file)\n",
    "\n",
    "    # Convert the image to HSV\n",
    "    hsv = cv2.cvtColor(image, cv2.COLOR_BGR2HSV)\n",
    "\n",
    "    # Define the lower and upper bounds for the blue color in HSV\n",
    "    lower_blue = np.array([50, 5, 15])\n",
    "    upper_blue = np.array([500, 455, 455])\n",
    "\n",
    "    # Create a mask using the inRange function\n",
    "    blue_mask = cv2.inRange(hsv, lower_blue, upper_blue)\n",
    "\n",
    "    # Apply the mask to the original image\n",
    "    result = cv2.bitwise_and(image, image, mask=blue_mask)\n",
    "    # Display the original image with contours\n",
    "    cv2.imshow('Blue Filter', result)\n",
    "    cv2.waitKey(0)\n",
    "    cv2.destroyAllWindows()\n",
    "\n",
    "\n",
    "    # Convert the filtered image to grayscale\n",
    "    gray_filtered = cv2.cvtColor(result, cv2.COLOR_BGR2GRAY)\n",
    "\n",
    "    # Find contours in the filtered image\n",
    "    contours, _ = cv2.findContours(gray_filtered, cv2.RETR_LIST, cv2.CHAIN_APPROX_SIMPLE)\n",
    "\n",
    "    # Draw contours on the original image\n",
    "    contour_image = image.copy()\n",
    "    cv2.drawContours(contour_image, contours, -1, (0, 255, 0), 2)\n",
    "\n",
    "    # Display the original image with contours\n",
    "    cv2.imshow('Original Image with Contours', contour_image)\n",
    "    cv2.waitKey(0)\n",
    "    cv2.destroyAllWindows()\n",
    "    \n",
    "    \n",
    "    if contours:\n",
    "        # Create a blank image with the same size as the original image\n",
    "        contour_image = np.zeros_like(contour_image)\n",
    "\n",
    "        # Draw contours on the blank image\n",
    "        cv2.drawContours(contour_image, contours, -1, (0, 255, 0), 2)\n",
    "\n",
    "        # Display the image with only the contours\n",
    "        cv2.imshow('Image with Contours Only', contour_image)\n",
    "        cv2.waitKey(0)\n",
    "        cv2.destroyAllWindows()\n",
    "\n",
    "        gray_contour_image = grayscale(contour_image)\n",
    "        cv2.imwrite(\"images/gray_contour_image.jpg\",gray_contour_image)\n",
    "        cv2.imshow('gray_contour_image', gray_contour_image)\n",
    "        cv2.waitKey(0)\n",
    "        cv2.destroyAllWindows()        \n",
    "\n",
    "        blur_image = Blur(gray_contour_image)\n",
    "        thresh_value,thresh = cv2.threshold(blur_image,0,150,cv2.THRESH_BINARY+cv2.THRESH_OTSU)\n",
    "        # print(thresh)\n",
    "        cv2.imwrite(\"images\\contour_thresh.jpg\",thresh)\n",
    "        cv2.imshow('contour_thresh', thresh)\n",
    "        cv2.waitKey(0)\n",
    "        cv2.destroyAllWindows() \n",
    "\n",
    "        blank_image = np.zeros_like(image)\n",
    "\n",
    "        # Draw contours on the blank image\n",
    "        cv2.drawContours(blank_image, contours, -1, (255, 255, 255), thickness=cv2.FILLED)\n",
    "\n",
    "        ret,thresh2 = cv2.threshold(thresh,127,255,cv2.THRESH_BINARY_INV)\n",
    "        cv2.imwrite(\"images\\contour_thresh_inv.jpg\",thresh2)\n",
    "        cv2.imshow('contour_thresh_inv', thresh2)\n",
    "        cv2.waitKey(0)\n",
    "        cv2.destroyAllWindows() \n",
    "\n",
    "\n",
    "        kernel = cv2.getStructuringElement(cv2.MORPH_RECT,(5,5))\n",
    "\n",
    "        dilate = cv2.dilate(thresh,kernel,iterations=5)\n",
    "        cv2.imwrite(\"images\\contour_dialate.jpg\",dilate)\n",
    "        cv2.imshow('contour_dialate', dilate)\n",
    "        cv2.waitKey(0)\n",
    "        cv2.destroyAllWindows() \n",
    "    \n",
    "    \n",
    "    if contours:\n",
    "        contours, _ = cv2.findContours(dilate, cv2.RETR_EXTERNAL, cv2.CHAIN_APPROX_SIMPLE)\n",
    "        contour_only_image = cv2.drawContours(image, contours, -1, (0, 255, 0), 2)\n",
    "        location,extension = image_file.split('.')\n",
    "        new_path = location+\"_contours.\"+extension\n",
    "        print(new_path)\n",
    "        \n",
    "        cv2.imwrite(new_path,contour_only_image)\n",
    "        cv2.imshow('contour_only_image', contour_only_image)\n",
    "        cv2.waitKey(0)\n",
    "        cv2.destroyAllWindows() \n",
    "\n",
    "    else:\n",
    "        print(\"No contours found.\")\n"
   ]
  },
  {
   "cell_type": "code",
   "execution_count": null,
   "id": "bbce0c97",
   "metadata": {},
   "outputs": [
    {
     "name": "stdout",
     "output_type": "stream",
     "text": [
      "2022_01_11_12_38_PM_Office_Lens_4_contours.jpg\n",
      "2022_01_11_12_38_PM_Office_Lens_4_contours_contours.jpg\n",
      "2022_01_11_12_38_PM_Office_Lens_4_contours_contours_contours.jpg\n",
      "compress_16283973586881672795621_contours.jpeg\n",
      "compress_16283973586881672795621_contours_contours.jpeg\n",
      "compress_16283973586881672795621_contours_contours_contours.jpeg\n",
      "compress_1629446272360525281284_contours.jpeg\n"
     ]
    }
   ],
   "source": [
    "# get_bounding_box(\"D:\\Internship\\Studjee\\Dataset\\compress_IMG20220103105239.jpeg\")\n",
    "for image_file in os.listdir():\n",
    "    get_bounding_box(image_file)"
   ]
  },
  {
   "cell_type": "code",
   "execution_count": null,
   "id": "9f823485",
   "metadata": {},
   "outputs": [],
   "source": []
  },
  {
   "cell_type": "code",
   "execution_count": 6,
   "id": "ad97be76",
   "metadata": {},
   "outputs": [],
   "source": [
    "import cv2\n",
    "import numpy as np\n",
    "import pytesseract\n",
    "\n",
    "# Load the image\n",
    "image = cv2.imread(\"D:\\Internship\\Studjee\\Dataset\\compress_IMG20220103105239.jpeg\")\n",
    "# image = cv2.imread(\"D:\\Internship\\Studjee\\Dataset\\compress_IimaMG_20220104_112022.jpeg\")\n",
    "# image = cv2.imread(\"D:\\Internship\\Studjee\\Dataset\\philosophy-1.jpg\")\n",
    "# image = cv2.imread(\"D:\\Internship\\Studjee\\Dataset\\2022_01_11_12_38_PM_Office_Lens_4.jpg\")\n",
    "\n",
    "\n",
    "\n",
    "# Convert the image to HSV\n",
    "hsv = cv2.cvtColor(image, cv2.COLOR_BGR2HSV)\n",
    "\n",
    "# Define the lower and upper bounds for the blue color in HSV\n",
    "lower_blue = np.array([50, 5, 15])\n",
    "upper_blue = np.array([500, 455, 455])\n",
    "\n",
    "# Create a mask using the inRange function\n",
    "blue_mask = cv2.inRange(hsv, lower_blue, upper_blue)\n",
    "\n",
    "# Apply the mask to the original image\n",
    "result = cv2.bitwise_and(image, image, mask=blue_mask)\n",
    "# Display the original image with contours\n",
    "cv2.imshow('Blue Filter', result)\n",
    "cv2.waitKey(0)\n",
    "cv2.destroyAllWindows()\n",
    "\n",
    "\n",
    "# Convert the filtered image to grayscale\n",
    "gray_filtered = cv2.cvtColor(result, cv2.COLOR_BGR2GRAY)\n",
    "\n",
    "# Find contours in the filtered image\n",
    "contours, _ = cv2.findContours(gray_filtered, cv2.RETR_LIST, cv2.CHAIN_APPROX_SIMPLE)\n",
    "\n",
    "# Draw contours on the original image\n",
    "contour_image = image.copy()\n",
    "cv2.drawContours(contour_image, contours, -1, (0, 255, 0), 2)\n",
    "\n",
    "# Display the original image with contours\n",
    "cv2.imshow('Original Image with Contours', contour_image)\n",
    "cv2.waitKey(0)\n",
    "cv2.destroyAllWindows()\n"
   ]
  },
  {
   "cell_type": "code",
   "execution_count": 9,
   "id": "acb0ad43",
   "metadata": {},
   "outputs": [
    {
     "ename": "error",
     "evalue": "OpenCV(4.8.1) D:\\a\\opencv-python\\opencv-python\\opencv\\modules\\highgui\\src\\window.cpp:971: error: (-215:Assertion failed) size.width>0 && size.height>0 in function 'cv::imshow'\n",
     "output_type": "error",
     "traceback": [
      "\u001b[1;31m---------------------------------------------------------------------------\u001b[0m",
      "\u001b[1;31merror\u001b[0m                                     Traceback (most recent call last)",
      "Cell \u001b[1;32mIn[9], line 15\u001b[0m\n\u001b[0;32m     13\u001b[0m gray_contour_image \u001b[38;5;241m=\u001b[39m grayscale(contour_image)\n\u001b[0;32m     14\u001b[0m cv2\u001b[38;5;241m.\u001b[39mimwrite(\u001b[38;5;124m\"\u001b[39m\u001b[38;5;124mimages/gray_contour_image.jpg\u001b[39m\u001b[38;5;124m\"\u001b[39m,gray_contour_image)\n\u001b[1;32m---> 15\u001b[0m \u001b[43mshow_image\u001b[49m\u001b[43m(\u001b[49m\u001b[38;5;124;43m\"\u001b[39;49m\u001b[38;5;124;43mimages/gray_contour_image.jpg\u001b[39;49m\u001b[38;5;124;43m\"\u001b[39;49m\u001b[43m)\u001b[49m\n\u001b[0;32m     17\u001b[0m blur_image \u001b[38;5;241m=\u001b[39m Blur(gray_contour_image)\n\u001b[0;32m     18\u001b[0m thresh_value,thresh \u001b[38;5;241m=\u001b[39m cv2\u001b[38;5;241m.\u001b[39mthreshold(blur_image,\u001b[38;5;241m0\u001b[39m,\u001b[38;5;241m150\u001b[39m,cv2\u001b[38;5;241m.\u001b[39mTHRESH_BINARY\u001b[38;5;241m+\u001b[39mcv2\u001b[38;5;241m.\u001b[39mTHRESH_OTSU)\n",
      "File \u001b[1;32mD:\\AI Adventures\\Image Processing\\Preprocessing_cheatsheet.py:14\u001b[0m, in \u001b[0;36mshow_image\u001b[1;34m(img_path)\u001b[0m\n\u001b[0;32m     12\u001b[0m \u001b[38;5;28;01mdef\u001b[39;00m \u001b[38;5;21mshow_image\u001b[39m(img_path):\n\u001b[0;32m     13\u001b[0m     img \u001b[38;5;241m=\u001b[39m cv2\u001b[38;5;241m.\u001b[39mimread(img_path)\n\u001b[1;32m---> 14\u001b[0m     \u001b[43mcv2\u001b[49m\u001b[38;5;241;43m.\u001b[39;49m\u001b[43mimshow\u001b[49m\u001b[43m(\u001b[49m\u001b[43mimg_path\u001b[49m\u001b[43m,\u001b[49m\u001b[43m \u001b[49m\u001b[43mimg\u001b[49m\u001b[43m)\u001b[49m\n\u001b[0;32m     15\u001b[0m     cv2\u001b[38;5;241m.\u001b[39mwaitKey(\u001b[38;5;241m0\u001b[39m)\n\u001b[0;32m     16\u001b[0m     cv2\u001b[38;5;241m.\u001b[39mdestroyAllWindows()\n",
      "\u001b[1;31merror\u001b[0m: OpenCV(4.8.1) D:\\a\\opencv-python\\opencv-python\\opencv\\modules\\highgui\\src\\window.cpp:971: error: (-215:Assertion failed) size.width>0 && size.height>0 in function 'cv::imshow'\n"
     ]
    }
   ],
   "source": [
    "if contours:\n",
    "    # Create a blank image with the same size as the original image\n",
    "    contour_image = np.zeros_like(contour_image)\n",
    "\n",
    "    # Draw contours on the blank image\n",
    "    cv2.drawContours(contour_image, contours, -1, (0, 255, 0), 2)\n",
    "\n",
    "    # Display the image with only the contours\n",
    "    cv2.imshow('Image with Contours Only', contour_image)\n",
    "    cv2.waitKey(0)\n",
    "    cv2.destroyAllWindows()\n",
    "    \n",
    "    gray_contour_image = grayscale(contour_image)\n",
    "    cv2.imwrite(\"images/gray_contour_image.jpg\",gray_contour_image)\n",
    "    show_image(\"images/gray_contour_image.jpg\")\n",
    "\n",
    "    blur_image = Blur(gray_contour_image)\n",
    "    thresh_value,thresh = cv2.threshold(blur_image,0,150,cv2.THRESH_BINARY+cv2.THRESH_OTSU)\n",
    "    # print(thresh)\n",
    "    cv2.imwrite(\"images\\contour_thresh.jpg\",thresh)\n",
    "    show_image(\"images\\contour_thresh.jpg\")\n",
    "    \n",
    "    blank_image = np.zeros_like(image)\n",
    "\n",
    "    # Draw contours on the blank image\n",
    "    cv2.drawContours(blank_image, contours, -1, (255, 255, 255), thickness=cv2.FILLED)\n",
    "    \n",
    "    ret,thresh2 = cv2.threshold(thresh,127,255,cv2.THRESH_BINARY_INV)\n",
    "    cv2.imwrite(\"images\\contour_thresh_inv.jpg\",thresh2)\n",
    "    show_image(\"images\\contour_thresh_inv.jpg\")\n",
    "    \n",
    "    \n",
    "#     blur_image = Blur(thresh2,(3,3),0)   \n",
    "#     cv2.imwrite(\"images\\thresh2_blur.jpg\",blur_image)\n",
    "#     cv2.imshow(\"\",\"images\\thresh2_blur.jpg\")\n",
    "#     cv2.waitKey(0)\n",
    "#     cv2.destroyAllWindows()  \n",
    "#     show_image(\"images\\thresh2_blur.jcontourpg\")\n",
    "\n",
    "    kernel = cv2.getStructuringElement(cv2.MORPH_RECT,(5,5))\n",
    "    \n",
    "#     erosion = cv2.erode(thresh,kernel,iterations=3)\n",
    "#     cv2.imwrite(\"images\\contour_erode.jpg\",dilate)\n",
    "#     show_image(\"images\\contour_erode.jpg\")\n",
    "\n",
    "    dilate = cv2.dilate(thresh,kernel,iterations=5)\n",
    "    cv2.imwrite(\"images\\contour_dialate.jpg\",dilate)\n",
    "    show_image(\"images\\contour_dialate.jpg\")"
   ]
  },
  {
   "cell_type": "code",
   "execution_count": 10,
   "id": "66908134",
   "metadata": {},
   "outputs": [
    {
     "ename": "NameError",
     "evalue": "name 'dialate' is not defined",
     "output_type": "error",
     "traceback": [
      "\u001b[1;31m---------------------------------------------------------------------------\u001b[0m",
      "\u001b[1;31mNameError\u001b[0m                                 Traceback (most recent call last)",
      "Cell \u001b[1;32mIn[10], line 2\u001b[0m\n\u001b[0;32m      1\u001b[0m \u001b[38;5;28;01mif\u001b[39;00m contours:\n\u001b[1;32m----> 2\u001b[0m    contours, _ \u001b[38;5;241m=\u001b[39m cv2\u001b[38;5;241m.\u001b[39mfindContours(\u001b[43mdialate\u001b[49m, cv2\u001b[38;5;241m.\u001b[39mRETR_EXTERNAL, cv2\u001b[38;5;241m.\u001b[39mCHAIN_APPROX_SIMPLE)\n\u001b[0;32m      3\u001b[0m    contour_only_image \u001b[38;5;241m=\u001b[39m cv2\u001b[38;5;241m.\u001b[39mdrawContours(image, contours, \u001b[38;5;241m-\u001b[39m\u001b[38;5;241m1\u001b[39m, (\u001b[38;5;241m0\u001b[39m, \u001b[38;5;241m255\u001b[39m, \u001b[38;5;241m0\u001b[39m), \u001b[38;5;241m2\u001b[39m)\n\u001b[0;32m      4\u001b[0m    cv2\u001b[38;5;241m.\u001b[39mimwrite(\u001b[38;5;124m\"\u001b[39m\u001b[38;5;124mimages/contour_only_image.jpg\u001b[39m\u001b[38;5;124m\"\u001b[39m,contour_only_image)\n",
      "\u001b[1;31mNameError\u001b[0m: name 'dialate' is not defined"
     ]
    }
   ],
   "source": [
    " if contours:\n",
    "    contours, _ = cv2.findContours(dialate, cv2.RETR_EXTERNAL, cv2.CHAIN_APPROX_SIMPLE)\n",
    "    contour_only_image = cv2.drawContours(image, contours, -1, (0, 255, 0), 2)\n",
    "    cv2.imwrite(\"images/contour_only_image.jpg\",contour_only_image)\n",
    "    show_image(\"images/contour_only_image.jpg\")\n",
    "    \n",
    "    # Display the image with only the contours\n",
    "    \n",
    "else:\n",
    "    print(\"No contours found.\")"
   ]
  },
  {
   "cell_type": "code",
   "execution_count": null,
   "id": "07e31efe",
   "metadata": {},
   "outputs": [],
   "source": []
  }
 ],
 "metadata": {
  "kernelspec": {
   "display_name": "Python 3 (ipykernel)",
   "language": "python",
   "name": "python3"
  },
  "language_info": {
   "codemirror_mode": {
    "name": "ipython",
    "version": 3
   },
   "file_extension": ".py",
   "mimetype": "text/x-python",
   "name": "python",
   "nbconvert_exporter": "python",
   "pygments_lexer": "ipython3",
   "version": "3.10.7"
  }
 },
 "nbformat": 4,
 "nbformat_minor": 5
}
