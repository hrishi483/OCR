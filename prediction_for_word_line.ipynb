{
  "cells": [
    {
      "cell_type": "markdown",
      "metadata": {
        "id": "iTXf-GbysDUV"
      },
      "source": [
        "\n",
        "\n",
        "## Deep Learning Model\n",
        "\n",
        "\n"
      ]
    },
    {
      "cell_type": "code",
      "execution_count": 1,
      "metadata": {
        "colab": {
          "base_uri": "https://localhost:8080/"
        },
        "id": "su5tKveVmaLY",
        "outputId": "2ba4d82a-6d33-4449-f0dd-f8f4838563eb"
      },
      "outputs": [
        {
          "output_type": "stream",
          "name": "stdout",
          "text": [
            "#--- words.txt ---------------------------------------------------------------#\n",
            "#\n",
            "# iam database word information\n",
            "#\n",
            "# format: a01-000u-00-00 ok 154 1 408 768 27 51 AT A\n",
            "#\n",
            "#     a01-000u-00-00  -> word id for line 00 in form a01-000u\n",
            "#     ok              -> result of word segmentation\n",
            "#                            ok: word was correctly\n",
            "#                            er: segmentation of word can be bad\n",
            "#\n",
            "#     154             -> graylevel to binarize the line containing this word\n",
            "#     1               -> number of components for this word\n",
            "#     408 768 27 51   -> bounding box around this word in x,y,w,h format\n",
            "#     AT              -> the grammatical tag for this word, see the\n",
            "#                        file tagset.txt for an explanation\n",
            "#     A               -> the transcription for this word\n",
            "#\n",
            "a01-000u-00-00 ok 154 408 768 27 51 AT A\n",
            "a01-000u-00-01 ok 154 507 766 213 48 NN MOVE\n",
            "Total training samples: 86810\n",
            "Total validation samples: 4823\n",
            "Total test samples: 4823\n",
            "Maximum length:  21\n",
            "Vocab size:  78\n"
          ]
        }
      ],
      "source": [
        "from tensorflow.keras.layers import StringLookup\n",
        "from tensorflow import keras\n",
        "\n",
        "import matplotlib.pyplot as plt\n",
        "import tensorflow as tf\n",
        "import numpy as np\n",
        "import os\n",
        "\n",
        "import numpy as np\n",
        "from tensorflow import keras\n",
        "\n",
        "np.random.seed(42)\n",
        "tf.random.set_seed(42)\n",
        "\n",
        "loaded_model = keras.models.load_model(\"/content/drive/MyDrive/Handwritting OCR 10 epochs\")\n",
        "\n",
        "!wget -q https://github.com/sayakpaul/Handwriting-Recognizer-in-Keras/releases/download/v1.0.0/IAM_Words.zip\n",
        "!unzip -qq IAM_Words.zip\n",
        "!\n",
        "!mkdir data\n",
        "!mkdir data/words\n",
        "\n",
        "!tar -xf IAM_Words/words.tgz -C data/words\n",
        "!mv IAM_Words/words.txt data\n",
        "!head -20 data/words.txt\n",
        "\n",
        "base_path = \"data\"\n",
        "words_list = []\n",
        "\n",
        "words = open(f\"{base_path}/words.txt\", \"r\").readlines()\n",
        "for line in words:\n",
        "    if line[0] == \"#\":\n",
        "        continue\n",
        "    if line.split(\" \")[1] != \"err\":  # We don't need to deal with errored entries.\n",
        "        words_list.append(line)\n",
        "\n",
        "len(words_list)\n",
        "\n",
        "np.random.shuffle(words_list)\n",
        "\n",
        "split_idx = int(0.9 * len(words_list))\n",
        "train_samples = words_list[:split_idx]\n",
        "test_samples = words_list[split_idx:]\n",
        "\n",
        "val_split_idx = int(0.5 * len(test_samples))\n",
        "validation_samples = test_samples[:val_split_idx]\n",
        "test_samples = test_samples[val_split_idx:]\n",
        "\n",
        "assert len(words_list) == len(train_samples) + len(validation_samples) + len(\n",
        "    test_samples\n",
        ")\n",
        "\n",
        "print(f\"Total training samples: {len(train_samples)}\")\n",
        "print(f\"Total validation samples: {len(validation_samples)}\")\n",
        "print(f\"Total test samples: {len(test_samples)}\")\n",
        "\n",
        "\n",
        "base_image_path = os.path.join(base_path, \"words\")\n",
        "\n",
        "\n",
        "def get_image_paths_and_labels(samples):\n",
        "    paths = []\n",
        "    corrected_samples = []\n",
        "    for (i, file_line) in enumerate(samples):\n",
        "        line_split = file_line.strip()\n",
        "        line_split = line_split.split(\" \")\n",
        "\n",
        "        # Each line split will have this format for the corresponding image:\n",
        "        # part1/part1-part2/part1-part2-part3.png\n",
        "        image_name = line_split[0]\n",
        "        partI = image_name.split(\"-\")[0]\n",
        "        partII = image_name.split(\"-\")[1]\n",
        "        img_path = os.path.join(\n",
        "            base_image_path, partI, partI + \"-\" + partII, image_name + \".png\"\n",
        "        )\n",
        "        if os.path.getsize(img_path):\n",
        "            paths.append(img_path)\n",
        "            corrected_samples.append(file_line.split(\"\\n\")[0])\n",
        "\n",
        "    return paths, corrected_samples\n",
        "\n",
        "\n",
        "train_img_paths, train_labels = get_image_paths_and_labels(train_samples)\n",
        "validation_img_paths, validation_labels = get_image_paths_and_labels(validation_samples)\n",
        "test_img_paths, test_labels = get_image_paths_and_labels(test_samples)\n",
        "\n",
        "# Find maximum length and the size of the vocabulary in the training data.\n",
        "train_labels_cleaned = []\n",
        "characters = set()\n",
        "max_len = 0\n",
        "\n",
        "for label in train_labels:\n",
        "    label = label.split(\" \")[-1].strip()\n",
        "    for char in label:\n",
        "        characters.add(char)\n",
        "\n",
        "    max_len = max(max_len, len(label))\n",
        "    train_labels_cleaned.append(label)\n",
        "\n",
        "characters = sorted(list(characters))\n",
        "\n",
        "print(\"Maximum length: \", max_len)\n",
        "print(\"Vocab size: \", len(characters))\n",
        "\n",
        "# Check some label samples.\n",
        "train_labels_cleaned[:10]\n",
        "\n",
        "\n",
        "def clean_labels(labels):\n",
        "    cleaned_labels = []\n",
        "    for label in labels:\n",
        "        label = label.split(\" \")[-1].strip()\n",
        "        cleaned_labels.append(label)\n",
        "    return cleaned_labels\n",
        "\n",
        "\n",
        "validation_labels_cleaned = clean_labels(validation_labels)\n",
        "test_labels_cleaned = clean_labels(test_labels)\n",
        "\n",
        "AUTOTUNE = tf.data.AUTOTUNE\n",
        "\n",
        "# Mapping characters to integers.\n",
        "char_to_num = StringLookup(vocabulary=list(characters), mask_token=None)\n",
        "\n",
        "# Mapping integers back to original characters.\n",
        "num_to_char = StringLookup(\n",
        "    vocabulary=char_to_num.get_vocabulary(), mask_token=None, invert=True\n",
        ")\n",
        "\n",
        "batch_size = 64\n",
        "padding_token = 99\n",
        "image_width = 128\n",
        "image_height = 32\n",
        "max_len = 21\n",
        "\n",
        "def distortion_free_resize(image, img_size):\n",
        "    w, h = img_size\n",
        "    image = tf.image.resize(image, size=(h, w), preserve_aspect_ratio=True)\n",
        "\n",
        "    # Check tha amount of padding needed to be done.\n",
        "    pad_height = h - tf.shape(image)[0]\n",
        "    pad_width = w - tf.shape(image)[1]\n",
        "\n",
        "    # Only necessary if you want to do same amount of padding on both sides.\n",
        "    if pad_height % 2 != 0:\n",
        "        height = pad_height // 2\n",
        "        pad_height_top = height + 1\n",
        "        pad_height_bottom = height\n",
        "    else:\n",
        "        pad_height_top = pad_height_bottom = pad_height // 2\n",
        "\n",
        "    if pad_width % 2 != 0:\n",
        "        width = pad_width // 2\n",
        "        pad_width_left = width + 1\n",
        "        pad_width_right = width\n",
        "    else:\n",
        "        pad_width_left = pad_width_right = pad_width // 2\n",
        "\n",
        "    image = tf.pad(\n",
        "        image,\n",
        "        paddings=[\n",
        "            [pad_height_top, pad_height_bottom],\n",
        "            [pad_width_left, pad_width_right],\n",
        "            [0, 0],\n",
        "        ],\n",
        "    )\n",
        "\n",
        "    image = tf.transpose(image, perm=[1, 0, 2])\n",
        "    image = tf.image.flip_left_right(image)\n",
        "    return image\n",
        "\n",
        "\n",
        "def preprocess_image(image_path, img_size=(image_width, image_height)):\n",
        "    image = tf.io.read_file(image_path)\n",
        "    image = tf.image.decode_png(image, 1)\n",
        "    image = distortion_free_resize(image, img_size)\n",
        "    image = tf.cast(image, tf.float32) / 255.0\n",
        "    return image\n",
        "\n",
        "# A utility function to decode the output of the network.\n",
        "def decode_batch_predictions(pred):\n",
        "    input_len = np.ones(pred.shape[0]) * pred.shape[1]\n",
        "    # Use greedy search. For complex tasks, you can use beam search.\n",
        "    results = keras.backend.ctc_decode(pred, input_length=input_len, greedy=True)[0][0][\n",
        "        :, :max_len\n",
        "    ]\n",
        "    # Iterate over the results and get back the text.\n",
        "    output_text = []\n",
        "    for res in results:\n",
        "        res = tf.gather(res, tf.where(tf.math.not_equal(res, -1)))\n",
        "        res = tf.strings.reduce_join(num_to_char(res)).numpy().decode(\"utf-8\")\n",
        "        output_text.append(res)\n",
        "    return output_text\n",
        "\n",
        "\n",
        "# Assuming build_model and preprocess_image are defined in your code\n",
        "prediction_model = keras.models.Model(\n",
        "    loaded_model.get_layer(name=\"image\").input, loaded_model.get_layer(name=\"dense2\").output\n",
        ")\n",
        "\n",
        "\n"
      ]
    },
    {
      "cell_type": "code",
      "execution_count": 2,
      "metadata": {
        "colab": {
          "base_uri": "https://localhost:8080/",
          "height": 36
        },
        "id": "4L-s5G5d7fs_",
        "outputId": "5c023c33-1621-4176-c5e1-ad8ba7aff190"
      },
      "outputs": [
        {
          "output_type": "execute_result",
          "data": {
            "text/plain": [
              "'/content/drive/MyDrive/WordDetector'"
            ],
            "application/vnd.google.colaboratory.intrinsic+json": {
              "type": "string"
            }
          },
          "metadata": {},
          "execution_count": 2
        }
      ],
      "source": [
        "import os\n",
        "os.getcwd()\n",
        "os.chdir(\"/content/drive/MyDrive/WordDetector\")\n",
        "os.getcwd()"
      ]
    },
    {
      "cell_type": "markdown",
      "metadata": {
        "id": "5heSBXtVAym5"
      },
      "source": [
        "## Word Detector"
      ]
    },
    {
      "cell_type": "code",
      "execution_count": 3,
      "metadata": {
        "id": "Yr0Qf8Qm7ssN"
      },
      "outputs": [],
      "source": [
        "from collections import defaultdict\n",
        "from dataclasses import dataclass\n",
        "from typing import List\n",
        "\n",
        "import cv2\n",
        "import numpy as np\n",
        "from sklearn.cluster import DBSCAN\n",
        "\n",
        "\n",
        "@dataclass\n",
        "class BBox:\n",
        "    x: int\n",
        "    y: int\n",
        "    w: int\n",
        "    h: int\n",
        "\n",
        "\n",
        "@dataclass\n",
        "class DetectorRes:\n",
        "    img: np.ndarray\n",
        "    bbox: BBox\n",
        "\n",
        "\n",
        "def detect(img: np.ndarray,\n",
        "           kernel_size: int,\n",
        "           sigma: float,\n",
        "           theta: float,\n",
        "           min_area: int) -> List[DetectorRes]:\n",
        "    \"\"\"Scale space technique for word segmentation proposed by R. Manmatha.\n",
        "\n",
        "    For details see paper http://ciir.cs.umass.edu/pubfiles/mm-27.pdf.\n",
        "\n",
        "    Args:\n",
        "        img: A grayscale uint8 image.\n",
        "        kernel_size: The size of the filter kernel, must be an odd integer.\n",
        "        sigma: Standard deviation of Gaussian function used for filter kernel.\n",
        "        theta: Approximated width/height ratio of words, filter function is distorted by this factor.\n",
        "        min_area: Ignore word candidates smaller than specified area.\n",
        "\n",
        "    Returns:\n",
        "        List of DetectorRes instances, each containing the bounding box and the word image.\n",
        "    \"\"\"\n",
        "    assert img.ndim == 2\n",
        "    assert img.dtype == np.uint8\n",
        "\n",
        "    # apply filter kernel\n",
        "    kernel = _compute_kernel(kernel_size, sigma, theta)\n",
        "    img_filtered = cv2.filter2D(img, -1, kernel, borderType=cv2.BORDER_REPLICATE).astype(np.uint8)\n",
        "    img_thres = 255 - cv2.threshold(img_filtered, 0, 255, cv2.THRESH_BINARY + cv2.THRESH_OTSU)[1]\n",
        "\n",
        "    # append components to result\n",
        "    res = []\n",
        "    components = cv2.findContours(img_thres, cv2.RETR_LIST, cv2.CHAIN_APPROX_SIMPLE)[0]\n",
        "    for c in components:\n",
        "        # skip small word candidates\n",
        "        if cv2.contourArea(c) < min_area:\n",
        "            continue\n",
        "        # append bounding box and image of word to result list\n",
        "        x, y, w, h = cv2.boundingRect(c)  # bounding box as tuple (x, y, w, h)\n",
        "        crop = img[y:y + h, x:x + w]\n",
        "        res.append(DetectorRes(crop, BBox(x, y, w, h)))\n",
        "\n",
        "    return res\n",
        "\n",
        "\n",
        "def _compute_kernel(kernel_size: int,\n",
        "                    sigma: float,\n",
        "                    theta: float) -> np.ndarray:\n",
        "    \"\"\"Compute anisotropic filter kernel.\"\"\"\n",
        "\n",
        "    assert kernel_size % 2  # must be odd size\n",
        "\n",
        "    # create coordinate grid\n",
        "    half_size = kernel_size // 2\n",
        "    xs = ys = np.linspace(-half_size, half_size, kernel_size)\n",
        "    x, y = np.meshgrid(xs, ys)\n",
        "\n",
        "    # compute sigma values in x and y direction, where theta is roughly the average x/y ratio of words\n",
        "    sigma_y = sigma\n",
        "    sigma_x = sigma_y * theta\n",
        "\n",
        "    # compute terms and combine them\n",
        "    exp_term = np.exp(-x ** 2 / (2 * sigma_x) - y ** 2 / (2 * sigma_y))\n",
        "    x_term = (x ** 2 - sigma_x ** 2) / (2 * np.math.pi * sigma_x ** 5 * sigma_y)\n",
        "    y_term = (y ** 2 - sigma_y ** 2) / (2 * np.math.pi * sigma_y ** 5 * sigma_x)\n",
        "    kernel = (x_term + y_term) * exp_term\n",
        "\n",
        "    # normalize and return kernel\n",
        "    kernel = kernel / np.sum(kernel)\n",
        "    return kernel\n",
        "\n",
        "\n",
        "def prepare_img(img: np.ndarray,\n",
        "                height: int) -> np.ndarray:\n",
        "    \"\"\"Convert image to grayscale image (if needed) and resize to given height.\"\"\"\n",
        "    assert img.ndim in (2, 3)\n",
        "    assert height > 0\n",
        "    assert img.dtype == np.uint8\n",
        "    if img.ndim == 3:\n",
        "        img = cv2.cvtColor(img, cv2.COLOR_BGR2GRAY)\n",
        "    h = img.shape[0]\n",
        "    factor = height / h\n",
        "    return cv2.resize(img, dsize=None, fx=factor, fy=factor)\n",
        "\n",
        "\n",
        "def _cluster_lines(detections: List[DetectorRes],\n",
        "                   max_dist: float = 0.7,\n",
        "                   min_words_per_line: int = 2) -> List[List[DetectorRes]]:\n",
        "    # compute matrix containing Jaccard distances (which is a proper metric)\n",
        "    num_bboxes = len(detections)\n",
        "    dist_mat = np.ones((num_bboxes, num_bboxes))\n",
        "    for i in range(num_bboxes):\n",
        "        for j in range(i, num_bboxes):\n",
        "            a = detections[i].bbox\n",
        "            b = detections[j].bbox\n",
        "            if a.y > b.y + b.h or b.y > a.y + a.h:\n",
        "                continue\n",
        "            intersection = min(a.y + a.h, b.y + b.h) - max(a.y, b.y)\n",
        "            union = a.h + b.h - intersection\n",
        "            iou = np.clip(intersection / union if union > 0 else 0, 0, 1)\n",
        "            dist_mat[i, j] = dist_mat[j, i] = 1 - iou  # Jaccard distance is defined as 1-iou\n",
        "\n",
        "    dbscan = DBSCAN(eps=max_dist, min_samples=min_words_per_line, metric='precomputed').fit(dist_mat)\n",
        "\n",
        "    clustered = defaultdict(list)\n",
        "    for i, cluster_id in enumerate(dbscan.labels_):\n",
        "        if cluster_id == -1:\n",
        "            continue\n",
        "        clustered[cluster_id].append(detections[i])\n",
        "\n",
        "    res = sorted(clustered.values(), key=lambda line: [det.bbox.y + det.bbox.h / 2 for det in line])\n",
        "    return res\n",
        "\n",
        "\n",
        "def sort_multiline(detections: List[DetectorRes],\n",
        "                   max_dist: float = 0.7,\n",
        "                   min_words_per_line: int = 2) -> List[List[DetectorRes]]:\n",
        "    \"\"\"Cluster detections into lines, then sort the lines according to x-coordinates of word centers.\n",
        "\n",
        "    Args:\n",
        "        detections: List of detections.\n",
        "        max_dist: Maximum Jaccard distance (0..1) between two y-projected words to be considered as neighbors.\n",
        "        min_words_per_line: If a line contains less words than specified, it is ignored.\n",
        "\n",
        "    Returns:\n",
        "        List of lines, each line itself a list of detections.\n",
        "    \"\"\"\n",
        "    lines = _cluster_lines(detections, max_dist, min_words_per_line)\n",
        "    res = []\n",
        "    for line in lines:\n",
        "        res += sort_line(line)\n",
        "    return res\n",
        "\n",
        "\n",
        "def sort_line(detections: List[DetectorRes]) -> List[List[DetectorRes]]:\n",
        "    \"\"\"Sort the list of detections according to x-coordinates of word centers.\"\"\"\n",
        "    return [sorted(detections, key=lambda det: det.bbox.x + det.bbox.w / 2)]\n"
      ]
    },
    {
      "cell_type": "code",
      "execution_count": null,
      "metadata": {
        "id": "hRrzY7HiAyCK"
      },
      "outputs": [],
      "source": []
    },
    {
      "cell_type": "code",
      "execution_count": null,
      "metadata": {
        "id": "keA2C6YXAx_D"
      },
      "outputs": [],
      "source": []
    },
    {
      "cell_type": "code",
      "execution_count": null,
      "metadata": {
        "id": "Z3sGNLCEAx8Q"
      },
      "outputs": [],
      "source": []
    },
    {
      "cell_type": "code",
      "execution_count": null,
      "metadata": {
        "id": "W5oqrlrqAx5z"
      },
      "outputs": [],
      "source": []
    },
    {
      "cell_type": "code",
      "execution_count": null,
      "metadata": {
        "id": "0uRi93QkAx2K"
      },
      "outputs": [],
      "source": []
    },
    {
      "cell_type": "code",
      "execution_count": null,
      "metadata": {
        "id": "B9V0F1GaAxv5"
      },
      "outputs": [],
      "source": []
    },
    {
      "cell_type": "code",
      "execution_count": 4,
      "metadata": {
        "colab": {
          "base_uri": "https://localhost:8080/",
          "height": 466
        },
        "id": "kzDgXtux9W88",
        "outputId": "e3846067-2006-4f17-bbac-a375bf6638d6"
      },
      "outputs": [
        {
          "output_type": "stream",
          "name": "stdout",
          "text": [
            "Processing file /content/drive/MyDrive/WordDetector/data/line/1.png\n"
          ]
        },
        {
          "output_type": "stream",
          "name": "stderr",
          "text": [
            "<ipython-input-4-3d46eb02478b>:47: MatplotlibDeprecationWarning: The get_cmap function was deprecated in Matplotlib 3.7 and will be removed two minor releases later. Use ``matplotlib.colormaps[name]`` or ``matplotlib.colormaps.get_cmap(obj)`` instead.\n",
            "  colors = plt.cm.get_cmap('rainbow', num_colors)\n"
          ]
        },
        {
          "output_type": "stream",
          "name": "stdout",
          "text": [
            "0 to 95 ---- 5 to 41\n",
            "File written successfully: /content/drive/MyDrive/WordDetector/img_names_sequence.txt\n",
            "117 to 230 ---- 15 to 38\n",
            "File written successfully: /content/drive/MyDrive/WordDetector/img_names_sequence.txt\n",
            "248 to 307 ---- 10 to 33\n",
            "File written successfully: /content/drive/MyDrive/WordDetector/img_names_sequence.txt\n",
            "331 to 384 ---- 12 to 36\n",
            "File written successfully: /content/drive/MyDrive/WordDetector/img_names_sequence.txt\n",
            "408 to 472 ---- 3 to 35\n",
            "File written successfully: /content/drive/MyDrive/WordDetector/img_names_sequence.txt\n",
            "491 to 527 ---- 18 to 30\n",
            "File written successfully: /content/drive/MyDrive/WordDetector/img_names_sequence.txt\n",
            "540 to 683 ---- 3 to 41\n",
            "File written successfully: /content/drive/MyDrive/WordDetector/img_names_sequence.txt\n",
            "709 to 856 ---- 14 to 50\n",
            "File written successfully: /content/drive/MyDrive/WordDetector/img_names_sequence.txt\n"
          ]
        },
        {
          "output_type": "display_data",
          "data": {
            "text/plain": [
              "<Figure size 640x480 with 1 Axes>"
            ],
            "image/png": "[encoded data removed]"
          },
          "metadata": {}
        },
        {
          "output_type": "stream",
          "name": "stdout",
          "text": [
            "Lines  None\n"
          ]
        }
      ],
      "source": [
        "import argparse\n",
        "from typing import List\n",
        "import cv2\n",
        "import matplotlib.pyplot as plt\n",
        "from pathlib import Path\n",
        "\n",
        "# from word_detector import detect, prepare_img, sort_multiline\n",
        "\n",
        "# Manually set the values or use default values\n",
        "parsed = argparse.Namespace(\n",
        "    # data=[\"/content/drive/MyDrive/WordDetector/data/page/r06-137.png\"],\n",
        "    data = [\"/content/drive/MyDrive/WordDetector/data/line/1.png\"],\n",
        "    kernel_size=25,\n",
        "    sigma=11,\n",
        "    theta=7,\n",
        "    min_area=100,\n",
        "    img_height=50\n",
        ")\n",
        "\n",
        "def get_img_files(data_dir: Path) -> List[Path]:\n",
        "    \"\"\"Return all image files contained in a folder.\"\"\"\n",
        "    res = []\n",
        "    for ext in ['*.png', '*.jpg', '*.bmp']:\n",
        "        res += Path(data_dir).glob(ext)\n",
        "    return res\n",
        "\n",
        "def save_image_names_to_text_files():\n",
        "    # for fn_img in get_img_files(parsed.data):\n",
        "    for fn_img in parsed.data:\n",
        "        print(f'Processing file {fn_img}')\n",
        "\n",
        "        # load image and process it\n",
        "        img = prepare_img(cv2.imread(str(fn_img)), parsed.img_height)\n",
        "        detections = detect(img,\n",
        "                            kernel_size=parsed.kernel_size,\n",
        "                            sigma=parsed.sigma,\n",
        "                            theta=parsed.theta,\n",
        "                            min_area=parsed.min_area)\n",
        "\n",
        "        # sort detections: cluster into lines, then sort each line\n",
        "        lines = sort_multiline(detections)\n",
        "\n",
        "        list_img_names_serial = []\n",
        "        # plot results\n",
        "        plt.imshow(img, cmap='gray')\n",
        "        num_colors = 7\n",
        "        colors = plt.cm.get_cmap('rainbow', num_colors)\n",
        "        for line_idx, line in enumerate(lines):\n",
        "            for word_idx, det in enumerate(line):\n",
        "                xs = [det.bbox.x, det.bbox.x, det.bbox.x + det.bbox.w, det.bbox.x + det.bbox.w, det.bbox.x]\n",
        "                ys = [det.bbox.y, det.bbox.y + det.bbox.h, det.bbox.y + det.bbox.h, det.bbox.y, det.bbox.y]\n",
        "                plt.plot(xs, ys, c=colors(line_idx % num_colors))\n",
        "                plt.text(det.bbox.x, det.bbox.y, f'{line_idx}/{word_idx}')\n",
        "                # print(det.bbox.x, det.bbox.y, det.bbox.w, det.bbox.h)\n",
        "                print(det.bbox.x,\"to\",det.bbox.x + det.bbox.w,\"----\", det.bbox.y,\"to\",det.bbox.y + det.bbox.h)\n",
        "\n",
        "                try:\n",
        "                  crop_img = img[det.bbox.y:det.bbox.y + det.bbox.h, det.bbox.x:det.bbox.x + det.bbox.w]\n",
        "                  cv2.imwrite(f\"line{line_idx}word{word_idx}.jpg\", crop_img)\n",
        "                  full_img_path = f\"line{line_idx}word{word_idx}.jpg\"\n",
        "                  list_img_names_serial.append(full_img_path)\n",
        "\n",
        "                  list_img_names_serial_set = set(list_img_names_serial)\n",
        "\n",
        "                  output_path = \"/content/drive/MyDrive/WordDetector/img_names_sequence.txt\"  # Change the path accordingly\n",
        "                  with open(output_path, \"w\") as textfile:\n",
        "                      for element in list_img_names_serial:\n",
        "                          textfile.write(element + \"\\n\")\n",
        "\n",
        "                  # Print the path for confirmation\n",
        "                  print(f\"File written successfully: {output_path}\")\n",
        "                except Exception as e:\n",
        "                  print(\"exception\",e)\n",
        "                  if crop_img.shape[0] <= img.shape[0] or crop_img.shape[1] >= img.shape[1]:\n",
        "                      print(f\"Error: Crop dimensions exceed original image dimensions for line {line_idx}, word {word_idx}\")\n",
        "                      print(crop_img.shape[0] , img.shape[0], crop_img.shape[1] , img.shape[1])\n",
        "\n",
        "                  print(\"\",end=\"\")\n",
        "        plt.show()\n",
        "    # return list_img_names_serial_set\n",
        "\n",
        "print(\"Lines \",save_image_names_to_text_files())"
      ]
    },
    {
      "cell_type": "code",
      "execution_count": 5,
      "metadata": {
        "colab": {
          "base_uri": "https://localhost:8080/",
          "height": 36
        },
        "id": "OMAfy29gBr9F",
        "outputId": "cf0e9d2e-ce72-4614-e755-76ace9247bde"
      },
      "outputs": [
        {
          "output_type": "execute_result",
          "data": {
            "text/plain": [
              "'/content/drive/MyDrive/WordDetector'"
            ],
            "application/vnd.google.colaboratory.intrinsic+json": {
              "type": "string"
            }
          },
          "metadata": {},
          "execution_count": 5
        }
      ],
      "source": [
        "os.getcwd()"
      ]
    },
    {
      "cell_type": "code",
      "execution_count": 6,
      "metadata": {
        "id": "Ga8R5LOJpEtc"
      },
      "outputs": [],
      "source": [
        "def predict_for_new_image(path):\n",
        "  # Load and preprocess the new image\n",
        "  # new_image_path = \"/content/of.png\"\n",
        "  new_image_path = path\n",
        "\n",
        "\n",
        "  new_image = preprocess_image(new_image_path)\n",
        "\n",
        "\n",
        "  # Expand dimensions to match the model's expected input shape\n",
        "  new_image = np.expand_dims(new_image, axis=0)\n",
        "\n",
        "  # Get predictions\n",
        "  preds = prediction_model.predict(new_image)\n",
        "\n",
        "  # Decode the predictions\n",
        "  decoded_text = decode_batch_predictions(preds)[0]\n",
        "\n",
        "  # Display the results\n",
        "  print(\"Predicted Text:\", decoded_text.strip(\"[UNK]\"))\n",
        "  return decoded_text"
      ]
    },
    {
      "cell_type": "code",
      "execution_count": null,
      "metadata": {
        "colab": {
          "base_uri": "https://localhost:8080/"
        },
        "id": "Uz5c_mtMpU0-",
        "outputId": "00296f64-54d0-4f46-c880-11ade5cab435"
      },
      "outputs": [
        {
          "name": "stdout",
          "output_type": "stream",
          "text": [
            "1/1 [==============================] - 0s 36ms/step\n",
            "Predicted Text: of\n"
          ]
        }
      ],
      "source": [
        "predict_for_new_image(\"/content/of.png\")"
      ]
    },
    {
      "cell_type": "code",
      "execution_count": 7,
      "metadata": {
        "colab": {
          "base_uri": "https://localhost:8080/"
        },
        "id": "7TYUPQRdpYFE",
        "outputId": "f6b0ce31-730a-4e7d-9ea6-b450b4cdb39e"
      },
      "outputs": [
        {
          "output_type": "execute_result",
          "data": {
            "text/plain": [
              "['IAM_Words.zip.1',\n",
              " 'IAM_Words.zip',\n",
              " 'IAM_Words.zip.2',\n",
              " 'LICENSE.md',\n",
              " 'requirements.txt',\n",
              " 'README.md',\n",
              " '.gitignore',\n",
              " 'setup.py',\n",
              " 'doc',\n",
              " 'tests',\n",
              " 'data',\n",
              " 'examples',\n",
              " 'word_detector.egg-info',\n",
              " 'word_detector',\n",
              " '.git',\n",
              " 'build',\n",
              " 'usage.py',\n",
              " '.ipynb_checkpoints',\n",
              " 'line0word0.jpg',\n",
              " 'line0word1.jpg',\n",
              " 'line0word5.jpg',\n",
              " 'line0word3.jpg',\n",
              " 'line0word2.jpg',\n",
              " 'line0word6.jpg',\n",
              " 'img_names_sequence.txt',\n",
              " 'line0word4.jpg',\n",
              " 'IAM_Words',\n",
              " 'main_draft1.ipynb',\n",
              " 'line0word7.jpg']"
            ]
          },
          "metadata": {},
          "execution_count": 7
        }
      ],
      "source": [
        "os.chdir(\"/content/drive/MyDrive/WordDetector\")\n",
        "os.listdir()"
      ]
    },
    {
      "cell_type": "code",
      "execution_count": 8,
      "metadata": {
        "colab": {
          "base_uri": "https://localhost:8080/",
          "height": 452
        },
        "id": "LI3ziPrbplUD",
        "outputId": "f5e3aaf8-5bf4-4f37-be5a-a8f227d37f51"
      },
      "outputs": [
        {
          "output_type": "stream",
          "name": "stdout",
          "text": [
            "line0word0.jpg\n",
            "1/1 [==============================] - 6s 6s/step\n",
            "Predicted Text: foods\n",
            "line0word1.jpg\n",
            "1/1 [==============================] - 0s 91ms/step\n",
            "Predicted Text: woud\n",
            "line0word5.jpg\n",
            "1/1 [==============================] - 0s 141ms/step\n",
            "Predicted Text: un\n",
            "line0word3.jpg\n",
            "1/1 [==============================] - 0s 146ms/step\n",
            "Predicted Text: be\n",
            "line0word2.jpg\n",
            "1/1 [==============================] - 0s 84ms/step\n",
            "Predicted Text: still\n",
            "line0word6.jpg\n",
            "1/1 [==============================] - 0s 119ms/step\n",
            "Predicted Text: fomiles\n",
            "line0word4.jpg\n",
            "1/1 [==============================] - 0s 95ms/step\n",
            "Predicted Text: hee\n",
            "line0word7.jpg\n",
            "1/1 [==============================] - 0s 176ms/step\n",
            "Predicted Text: reaong\n"
          ]
        },
        {
          "output_type": "execute_result",
          "data": {
            "text/plain": [
              "'foods woud un be still fomiles hee reaong'"
            ],
            "application/vnd.google.colaboratory.intrinsic+json": {
              "type": "string"
            }
          },
          "metadata": {},
          "execution_count": 8
        }
      ],
      "source": [
        "predicted_line = []\n",
        "for file in os.listdir():\n",
        "  if file.split('.')[-1] in ['jpeg','png','jpg']:\n",
        "    print(file)\n",
        "    predicted_line.append(predict_for_new_image(file))\n",
        "\n",
        "' '.join(predicted_line)"
      ]
    },
    {
      "cell_type": "code",
      "execution_count": null,
      "metadata": {
        "id": "uCetOX5Jp_mP"
      },
      "outputs": [],
      "source": []
    }
  ],
  "metadata": {
    "colab": {
      "provenance": []
    },
    "kernelspec": {
      "display_name": "Python 3",
      "name": "python3"
    },
    "language_info": {
      "name": "python"
    }
  },
  "nbformat": 4,
  "nbformat_minor": 0
}